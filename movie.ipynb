{
 "cells": [
  {
   "cell_type": "code",
   "execution_count": 2,
   "id": "cdd2cbb4",
   "metadata": {},
   "outputs": [
    {
     "name": "stdout",
     "output_type": "stream",
     "text": [
      "Welcome to movie recomendation system\n",
      "Please select a genre from the list below\n",
      "1.Action\n",
      "2.horror\n",
      "3.comedy\n",
      "4.romance\n",
      "\n",
      "Recommended horror Movies:\n",
      "-conjuring\n",
      "-the ring\n",
      "-a quiet place\n",
      "-get out\n",
      "Thank you for using the recommendation movie system\n"
     ]
    }
   ],
   "source": [
    "## movie recomendation basic project\n",
    "\n",
    "## list of movies by different genre\n",
    "action = [\"ironman\", \"captain america\", \"infinity war\", \"endgame\", \"thor\", \"superman\", \"batman\", \"flash\", \"aquaman\", \"green lantern\"]\n",
    "horror = [\"conjuring\", \"the ring\", \"a quiet place\", \"get out\"]\n",
    "comedy = [\"superbad\", \"spetbrothers\", \"mean girls\", \"due date\", \"ted\"]\n",
    "romance = [\"notebook\", \"atonment\", \"we live in time\", \"la la land\", \"pride and predjudice\"]\n",
    "\n",
    "## display avaiable genre\n",
    "print(\"Welcome to movie recomendation system\")\n",
    "print(\"Please select a genre from the list below\")\n",
    "print(\"1.Action\\n2.horror\\n3.comedy\\n4.romance\")\n",
    "\n",
    "## Get user input\n",
    "choice = input(\"Enter the number corresponding to your choice(1-4)\")\n",
    "\n",
    "## Recomend movie based on uer choice\n",
    "if choice == \"1\":\n",
    "    print(\"\\nRecommended Action Movies:\")\n",
    "    for movie in action:\n",
    "        print(f\"-{movie}\")\n",
    "elif choice == \"2\":\n",
    "    print(\"\\nRecommended horror Movies:\")\n",
    "    for movie in horror:\n",
    "        print(f\"-{movie}\")\n",
    "elif choice == \"3\":\n",
    "    print(\"\\nRecommended comedy movie\")\n",
    "    for movie in comedy:\n",
    "        print(f\"-{movie}\")\n",
    "elif choice == \"4\":\n",
    "    print(\"\\nRecommended romance movie:\")\n",
    "    for movie in romance:\n",
    "        print(f\"-{movie}\")\n",
    "else:\n",
    "        print(\"\\nInvalid choice! Please select from 1-4\")\n",
    "\n",
    "print(\"Thank you for using the recommendation movie system\")"
   ]
  }
 ],
 "metadata": {
  "kernelspec": {
   "display_name": "Python 3",
   "language": "python",
   "name": "python3"
  },
  "language_info": {
   "codemirror_mode": {
    "name": "ipython",
    "version": 3
   },
   "file_extension": ".py",
   "mimetype": "text/x-python",
   "name": "python",
   "nbconvert_exporter": "python",
   "pygments_lexer": "ipython3",
   "version": "3.10.5"
  }
 },
 "nbformat": 4,
 "nbformat_minor": 5
}
