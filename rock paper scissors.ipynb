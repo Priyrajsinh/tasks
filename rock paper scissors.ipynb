{
 "cells": [
  {
   "cell_type": "code",
   "execution_count": 1,
   "id": "516de84d",
   "metadata": {},
   "outputs": [
    {
     "name": "stdout",
     "output_type": "stream",
     "text": [
      "You Chose ✊ Rock\n",
      "Computer chose ✋ Paper\n",
      "You lose\n",
      "You Chose ✋ Paper\n",
      "Computer chose ✋ Paper\n",
      "Tie!\n",
      "You Chose ✌️ Scissors\n",
      "Computer chose ✊ Rock\n",
      "You lose\n",
      "Ivalid choice!\n",
      "Ivalid choice!\n",
      "You Chose ✊ Rock\n",
      "Computer chose ✌️ Scissors\n",
      "You win!\n"
     ]
    }
   ],
   "source": [
    "import random\n",
    "\n",
    "emojis = {\"r\" : \"✊ Rock\", \"p\" : \"✋ Paper\", \"s\" : \"✌️ Scissors\" }\n",
    "choices = (\"r\", \"p\", \"s\")\n",
    "\n",
    "def get_user_choice():\n",
    "    while True:\n",
    "        user_choice = input(\"Rock, Paper, Scissors(r/p/s):\").lower()\n",
    "        if user_choice in choices:\n",
    "            return user_choice\n",
    "        else:\n",
    "            print(\"Ivalid choice!\")\n",
    "    \n",
    "def display_choice(user_choice, computer_choice):\n",
    "    print(f\"You Chose {emojis[user_choice]}\")\n",
    "    print(f\"Computer chose {emojis[computer_choice]}\")\n",
    "\n",
    "def determine_winner(user_choice, computer_choice):\n",
    "    if user_choice == computer_choice:\n",
    "        print(\"Tie!\")\n",
    "    elif (\n",
    "        (user_choice == \"r\" and computer_choice == \"s\") or\n",
    "        (user_choice == \"s\" and computer_choice == \"p\") or\n",
    "        (user_choice == \"p\" and computer_choice == \"r\")):\n",
    "        print(\"You win!\")\n",
    "    else:\n",
    "        print(\"You lose\")\n",
    "\n",
    "def play_game():\n",
    "    while True:\n",
    "        user_choice = get_user_choice()\n",
    "\n",
    "        computer_choice = random.choice(choices)\n",
    "\n",
    "        display_choice(user_choice, computer_choice)\n",
    "\n",
    "        determine_winner(user_choice, computer_choice)\n",
    "\n",
    "        should_continue = input(\"Continue? (y/n):\").lower()\n",
    "        if should_continue == \"n\":\n",
    "            break\n",
    "\n",
    "play_game()"
   ]
  }
 ],
 "metadata": {
  "kernelspec": {
   "display_name": "Python 3",
   "language": "python",
   "name": "python3"
  },
  "language_info": {
   "codemirror_mode": {
    "name": "ipython",
    "version": 3
   },
   "file_extension": ".py",
   "mimetype": "text/x-python",
   "name": "python",
   "nbconvert_exporter": "python",
   "pygments_lexer": "ipython3",
   "version": "3.10.5"
  }
 },
 "nbformat": 4,
 "nbformat_minor": 5
}
