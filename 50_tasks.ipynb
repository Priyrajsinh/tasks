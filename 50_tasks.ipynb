{
 "cells": [
  {
   "cell_type": "code",
   "execution_count": null,
   "id": "17dc67fa",
   "metadata": {},
   "outputs": [
    {
     "name": "stdout",
     "output_type": "stream",
     "text": [
      "Hello World\n"
     ]
    }
   ],
   "source": [
    "### 1. Write a single-line comment and print 'Hello World'.\n",
    "print(\"Hello World\")"
   ]
  },
  {
   "cell_type": "code",
   "execution_count": 4,
   "id": "c5e70330",
   "metadata": {},
   "outputs": [
    {
     "name": "stdout",
     "output_type": "stream",
     "text": [
      "This is a comment\n"
     ]
    }
   ],
   "source": [
    "### 2. Use an inline comment in a print statement.\n",
    "print(\"This is a comment\") ## This is a inline comment"
   ]
  },
  {
   "cell_type": "code",
   "execution_count": 3,
   "id": "71d2948a",
   "metadata": {},
   "outputs": [
    {
     "name": "stdout",
     "output_type": "stream",
     "text": [
      "This is a comment\n"
     ]
    }
   ],
   "source": [
    "## 3. Write a multiline comment using #.\n",
    "## This is a comment\n",
    "## THis is also a comment\n",
    "print(\"This is a comment\") ## This is a inline comment"
   ]
  },
  {
   "cell_type": "code",
   "execution_count": null,
   "id": "c24fa89b",
   "metadata": {},
   "outputs": [
    {
     "data": {
      "text/plain": [
       "'This is a comment using triple quotes'"
      ]
     },
     "execution_count": 5,
     "metadata": {},
     "output_type": "execute_result"
    }
   ],
   "source": [
    "##4. Write a multiline comment using triple quotes \"\"\".\n",
    "\"\"\"This is a comment using triple quotes\"\"\""
   ]
  },
  {
   "cell_type": "code",
   "execution_count": 9,
   "id": "774d1586",
   "metadata": {},
   "outputs": [
    {
     "name": "stdout",
     "output_type": "stream",
     "text": [
      "priyraj\n",
      "krish\n",
      "dhyey\n"
     ]
    }
   ],
   "source": [
    "##5. Create 3 valid variable names and print them.\n",
    "num1 = \"priyraj\"\n",
    "num2 = \"krish\"\n",
    "num3 = \"dhyey\"\n",
    "print(num1)\n",
    "print(num2)\n",
    "print(num3)"
   ]
  },
  {
   "cell_type": "code",
   "execution_count": 13,
   "id": "4f629761",
   "metadata": {},
   "outputs": [
    {
     "ename": "SyntaxError",
     "evalue": "invalid syntax (3623912974.py, line 2)",
     "output_type": "error",
     "traceback": [
      "\u001b[1;36m  Cell \u001b[1;32mIn[13], line 2\u001b[1;36m\u001b[0m\n\u001b[1;33m    name = @priyrajsinh  ## variables should start with alphabets or underscore\u001b[0m\n\u001b[1;37m           ^\u001b[0m\n\u001b[1;31mSyntaxError\u001b[0m\u001b[1;31m:\u001b[0m invalid syntax\n"
     ]
    }
   ],
   "source": [
    "## 6.Show an invalid variable name and explain why.\n",
    "name = @priyrajsinh  ## variables should start with alphabets or underscore\n",
    "print(name)"
   ]
  },
  {
   "cell_type": "code",
   "execution_count": 18,
   "id": "1fd5d9ff",
   "metadata": {},
   "outputs": [
    {
     "name": "stdout",
     "output_type": "stream",
     "text": [
      "apple\n",
      "abnana\n",
      "kiwi\n"
     ]
    }
   ],
   "source": [
    "## 7.Assign values to multiple variables in one line and print them\n",
    "X, y , z= \"apple\", \"abnana\", \"kiwi\"\n",
    "print(X)\n",
    "print(y)\n",
    "print(z)"
   ]
  },
  {
   "cell_type": "code",
   "execution_count": 16,
   "id": "118a416b",
   "metadata": {},
   "outputs": [
    {
     "name": "stdout",
     "output_type": "stream",
     "text": [
      "10\n",
      "10\n",
      "10\n"
     ]
    }
   ],
   "source": [
    "## 8.Assign one value to multiple variables and print them.\n",
    "a= b= c= 10\n",
    "print(a)\n",
    "print(b)\n",
    "print(c)"
   ]
  },
  {
   "cell_type": "code",
   "execution_count": 23,
   "id": "1c7c649c",
   "metadata": {},
   "outputs": [
    {
     "name": "stdout",
     "output_type": "stream",
     "text": [
      "<class 'int'>\n",
      "<class 'float'>\n",
      "<class 'complex'>\n"
     ]
    }
   ],
   "source": [
    "## 9.Create variables of type int, float, complex and print their types.\n",
    "my_int = 5\n",
    "my_float = 5.5\n",
    "my_complex = 2+5j\n",
    "print(type(my_int))\n",
    "print(type(my_float))\n",
    "print(type(my_complex))"
   ]
  },
  {
   "cell_type": "code",
   "execution_count": 27,
   "id": "ad9b64e0",
   "metadata": {},
   "outputs": [
    {
     "name": "stdout",
     "output_type": "stream",
     "text": [
      "5.5\n"
     ]
    }
   ],
   "source": [
    "## 10. Show reassignment of a variable with a new type.\n",
    "my_num = 5\n",
    "new_num = my_num + 0.5\n",
    "print(new_num)"
   ]
  },
  {
   "cell_type": "code",
   "execution_count": 30,
   "id": "13ce519a",
   "metadata": {},
   "outputs": [
    {
     "name": "stdout",
     "output_type": "stream",
     "text": [
      "hello world\n"
     ]
    },
    {
     "data": {
      "text/plain": [
       "'HELLO WORLD'"
      ]
     },
     "execution_count": 30,
     "metadata": {},
     "output_type": "execute_result"
    }
   ],
   "source": [
    "## 11.Declare a string and convert it to uppercase\n",
    "a = \"hello world\"\n",
    "print(a)\n",
    "a.upper()"
   ]
  },
  {
   "cell_type": "code",
   "execution_count": 31,
   "id": "28c48ae9",
   "metadata": {},
   "outputs": [
    {
     "name": "stdout",
     "output_type": "stream",
     "text": [
      "HELLO WORLD\n"
     ]
    },
    {
     "data": {
      "text/plain": [
       "'hello world'"
      ]
     },
     "execution_count": 31,
     "metadata": {},
     "output_type": "execute_result"
    }
   ],
   "source": [
    "## 12. Convert a string to lowercase.\n",
    "b = \"HELLO WORLD\"\n",
    "print(b)\n",
    "b.lower()"
   ]
  },
  {
   "cell_type": "code",
   "execution_count": 32,
   "id": "b25b08dc",
   "metadata": {},
   "outputs": [
    {
     "name": "stdout",
     "output_type": "stream",
     "text": [
      "                                                       priyrajsinh\n",
      "priyrajsinh\n"
     ]
    }
   ],
   "source": [
    "## 13. Remove spaces from the beginning and end of a string using strip().\n",
    "a = \"                                                       priyrajsinh\"\n",
    "print(a)\n",
    "print(a.strip())"
   ]
  },
  {
   "cell_type": "code",
   "execution_count": 34,
   "id": "9949e909",
   "metadata": {},
   "outputs": [
    {
     "name": "stdout",
     "output_type": "stream",
     "text": [
      "java\n"
     ]
    }
   ],
   "source": [
    "## 14. Replace 'Python' with 'Java' in a string.\n",
    "str1 = \"python\"\n",
    "str2 = str1.replace(\"python\", \"java\")\n",
    "print(str2)"
   ]
  },
  {
   "cell_type": "code",
   "execution_count": null,
   "id": "5a9080e7",
   "metadata": {},
   "outputs": [
    {
     "name": "stdout",
     "output_type": "stream",
     "text": [
      "PriyrajsinhParmar\n"
     ]
    }
   ],
   "source": [
    "## 15.Concatenate two strings with +.\n",
    "str1 = \"Priyrajsinh\"\n",
    "str2 = \"Parmar\"\n",
    "print(str1 + str2)"
   ]
  },
  {
   "cell_type": "code",
   "execution_count": 41,
   "id": "678e229b",
   "metadata": {},
   "outputs": [
    {
     "name": "stdout",
     "output_type": "stream",
     "text": [
      "Priyrajsinh Parmar\n"
     ]
    }
   ],
   "source": [
    "## 16.Concatenate two strings with a space in between.\n",
    "str1 = \"Priyrajsinh \"\n",
    "str2 = \"Parmar\"\n",
    "print(str1 + str2)"
   ]
  },
  {
   "cell_type": "code",
   "execution_count": 43,
   "id": "3c4223db",
   "metadata": {},
   "outputs": [
    {
     "name": "stdout",
     "output_type": "stream",
     "text": [
      "Hello My name is priyraj and i am 28 years old\n"
     ]
    }
   ],
   "source": [
    "## 17. Format a string using f-strings (showing age).\n",
    "age = 21\n",
    "print(f\"Hello My name is priyraj and i am {age + 7} years old\")"
   ]
  },
  {
   "cell_type": "code",
   "execution_count": 44,
   "id": "20b5f8c9",
   "metadata": {},
   "outputs": [
    {
     "name": "stdout",
     "output_type": "stream",
     "text": [
      "Your bill is 450.00\n"
     ]
    }
   ],
   "source": [
    "## 18. Format a string with a decimal using :.2f.\n",
    "bill = 450\n",
    "print(f\"Your bill is {bill:.2f}\")"
   ]
  },
  {
   "cell_type": "code",
   "execution_count": 45,
   "id": "d7f2e5ee",
   "metadata": {},
   "outputs": [
    {
     "name": "stdout",
     "output_type": "stream",
     "text": [
      "Helo I am priyraj\n",
      "and i am learing python\n"
     ]
    }
   ],
   "source": [
    "## 19. Demonstrate \\n (newline) in a string.\n",
    "print(\"Helo I am priyraj\\nand i am learing python\")"
   ]
  },
  {
   "cell_type": "code",
   "execution_count": 47,
   "id": "59a43505",
   "metadata": {},
   "outputs": [
    {
     "name": "stdout",
     "output_type": "stream",
     "text": [
      "Priyrajsinh\tParmar\n"
     ]
    }
   ],
   "source": [
    "## 20. Demonstrate \\t (tab) in a string.\n",
    "str2 = \"Priyrajsinh\\tParmar\"\n",
    "print(str2)"
   ]
  },
  {
   "cell_type": "code",
   "execution_count": 48,
   "id": "008ee881",
   "metadata": {},
   "outputs": [
    {
     "name": "stdout",
     "output_type": "stream",
     "text": [
      "25.55\n"
     ]
    }
   ],
   "source": [
    "## 21.Declare a float variable and print it.\n",
    "my_float = 25.55\n",
    "print(my_float)"
   ]
  },
  {
   "cell_type": "code",
   "execution_count": 49,
   "id": "b0f1332f",
   "metadata": {},
   "outputs": [
    {
     "name": "stdout",
     "output_type": "stream",
     "text": [
      "49.0\n"
     ]
    }
   ],
   "source": [
    "## 22.Perform addition of two floats.\n",
    "my_float1 = 24.5\n",
    "my_flaot2 = 24.5\n",
    "print(my_float1 + my_flaot2)"
   ]
  },
  {
   "cell_type": "code",
   "execution_count": 50,
   "id": "53434351",
   "metadata": {},
   "outputs": [
    {
     "name": "stdout",
     "output_type": "stream",
     "text": [
      "The are of rectangle is 600.25\n"
     ]
    }
   ],
   "source": [
    "## 23. Multiply two floats (area of rectangle).\n",
    "my_length = 24.5\n",
    "my_width = 24.5\n",
    "area = my_length * my_width\n",
    "print(f\"The are of rectangle is {area}\")"
   ]
  },
  {
   "cell_type": "code",
   "execution_count": 53,
   "id": "74967afa",
   "metadata": {},
   "outputs": [
    {
     "name": "stdout",
     "output_type": "stream",
     "text": [
      "6.0\n"
     ]
    }
   ],
   "source": [
    "## 24. Divide two floats and show result.\n",
    "flo1 = 12\n",
    "flo2 = 2 \n",
    "flodiv = flo1 / flo2 \n",
    "print(flodiv)"
   ]
  },
  {
   "cell_type": "code",
   "execution_count": 54,
   "id": "a72212fb",
   "metadata": {},
   "outputs": [
    {
     "name": "stdout",
     "output_type": "stream",
     "text": [
      "8\n"
     ]
    }
   ],
   "source": [
    "## 25.Calculate power using floats.\n",
    "pow1 = 2\n",
    "pow2 = 3\n",
    "pow3 = pow1 ** pow2\n",
    "print(pow3)"
   ]
  },
  {
   "cell_type": "code",
   "execution_count": 55,
   "id": "d7202ca3",
   "metadata": {},
   "outputs": [
    {
     "name": "stdout",
     "output_type": "stream",
     "text": [
      "52.5\n"
     ]
    }
   ],
   "source": [
    "## 26. Multiply integer with float.\n",
    "int_val = 5\n",
    "float_value = 10.5\n",
    "result = int_val * float_value\n",
    "print(result)"
   ]
  },
  {
   "cell_type": "code",
   "execution_count": 56,
   "id": "60c1ddf7",
   "metadata": {},
   "outputs": [
    {
     "name": "stdout",
     "output_type": "stream",
     "text": [
      "3.15\n"
     ]
    }
   ],
   "source": [
    "## 27. Round a float to 2 decimal places.\n",
    "value = 3.14871\n",
    "rounded_value = round(value, 2)\n",
    "print(rounded_value)"
   ]
  },
  {
   "cell_type": "code",
   "execution_count": 58,
   "id": "df8d60ed",
   "metadata": {},
   "outputs": [
    {
     "name": "stdout",
     "output_type": "stream",
     "text": [
      "5\n"
     ]
    }
   ],
   "source": [
    "## 28. Convert a float to an integer.\n",
    "a = 5.0\n",
    "b = a \n",
    "print(int(b))"
   ]
  },
  {
   "cell_type": "code",
   "execution_count": 60,
   "id": "a1f331a9",
   "metadata": {},
   "outputs": [
    {
     "name": "stdout",
     "output_type": "stream",
     "text": [
      "-3.14\n"
     ]
    }
   ],
   "source": [
    "## 29. Print a negative float value.\n",
    "negative_float = -3.14\n",
    "print(negative_float)"
   ]
  },
  {
   "cell_type": "code",
   "execution_count": 61,
   "id": "0eddea88",
   "metadata": {},
   "outputs": [
    {
     "name": "stdout",
     "output_type": "stream",
     "text": [
      "106.96\n"
     ]
    }
   ],
   "source": [
    "## 30. Store multiple floats in a list and print their sum.\n",
    "price = [19.99, 25.99, 50.99, 9.99]\n",
    "result = sum(price)\n",
    "print(result)"
   ]
  },
  {
   "cell_type": "code",
   "execution_count": null,
   "id": "31d2c892",
   "metadata": {},
   "outputs": [
    {
     "name": "stdout",
     "output_type": "stream",
     "text": [
      "The addition of 5 and 5 is 10\n"
     ]
    }
   ],
   "source": [
    "## 31. Take two integer inputs from user and print their addition.\n",
    "a = int(input(\"Enter First number:\"))\n",
    "b = int(input(\"Enter second number:\"))\n",
    "\n",
    "result = a + b\n",
    "print(f\"The addition of {a} and {b} is {result}\")"
   ]
  },
  {
   "cell_type": "code",
   "execution_count": 64,
   "id": "c9345e9f",
   "metadata": {},
   "outputs": [
    {
     "name": "stdout",
     "output_type": "stream",
     "text": [
      "The addtion of (2+3j) and (5-4j) is (7-1j)\n"
     ]
    }
   ],
   "source": [
    "## 32. Take two complex numbers and print their sum.\n",
    "com1 = 2 + 3j\n",
    "com2 = 5- 4j\n",
    "\n",
    "result = com1 + com2 \n",
    "print(f\"The addtion of {com1} and {com2} is {result}\")"
   ]
  },
  {
   "cell_type": "code",
   "execution_count": 67,
   "id": "58cea608",
   "metadata": {},
   "outputs": [
    {
     "name": "stdout",
     "output_type": "stream",
     "text": [
      "-4\n",
      "Is the number positive?False\n"
     ]
    }
   ],
   "source": [
    "## 33. Check if a user-entered number is positive.\n",
    "num1 = int(input(\"Enter a number:\"))\n",
    "print(num1)\n",
    "print(f\"Is the number positive?{num1 > 0}\")\n"
   ]
  },
  {
   "cell_type": "code",
   "execution_count": 72,
   "id": "ab9bee5e",
   "metadata": {},
   "outputs": [
    {
     "name": "stdout",
     "output_type": "stream",
     "text": [
      "6\n",
      "Is the number even? True\n"
     ]
    }
   ],
   "source": [
    "## 34. Check if a user-entered number is even.\n",
    "num1 = int(input(\"Enter a number:\"))\n",
    "print(num1)\n",
    "print(f\"Is the number even? {num1 %2 == 0}\")"
   ]
  },
  {
   "cell_type": "code",
   "execution_count": 74,
   "id": "c6f49526",
   "metadata": {},
   "outputs": [
    {
     "name": "stdout",
     "output_type": "stream",
     "text": [
      "25\n",
      "Is the number divisible by 5 ? True\n"
     ]
    }
   ],
   "source": [
    "## 35. Check if a user-entered number is divisible by 5.\n",
    "num1 = int(input(\"Enter a number:\"))\n",
    "print(num1)\n",
    "print(f\"Is the number divisible by 5 ? {num1 %5 == 0}\")"
   ]
  },
  {
   "cell_type": "code",
   "execution_count": 75,
   "id": "f46b4486",
   "metadata": {},
   "outputs": [
    {
     "name": "stdout",
     "output_type": "stream",
     "text": [
      "Are the number enterd equal?True\n"
     ]
    }
   ],
   "source": [
    "## 36. Check if two user-entered numbers are equal.\n",
    "num1 = float(input(\"Enter first number:\"))\n",
    "num2 = float(input(\"Enter second number:\"))\n",
    "print(f\"Are the number enterd equal?{num1 == num2}\")"
   ]
  },
  {
   "cell_type": "code",
   "execution_count": 76,
   "id": "a37c3fd3",
   "metadata": {},
   "outputs": [
    {
     "name": "stdout",
     "output_type": "stream",
     "text": [
      "Does the sting contain alphabates ? True\n"
     ]
    }
   ],
   "source": [
    "## 37. Check if a string contains only alphabets (isalpha()).\n",
    "text = input(\"Enter a string\")\n",
    "print(f\"Does the sting contain alphabates ? {text.isalpha()}\")"
   ]
  },
  {
   "cell_type": "code",
   "execution_count": 80,
   "id": "95e36a5f",
   "metadata": {},
   "outputs": [
    {
     "name": "stdout",
     "output_type": "stream",
     "text": [
      "The entered sting is hannah\n",
      "Is the enterd string palindrome? True\n"
     ]
    }
   ],
   "source": [
    "##38. Check if a string is a palindrome.\n",
    "text = input(\"Enter a string\")\n",
    "print(f\"The entered sting is {text}\")\n",
    "print(f\"Is the enterd string palindrome? {text == text[::-1]}\")"
   ]
  },
  {
   "cell_type": "code",
   "execution_count": 83,
   "id": "9aaac43e",
   "metadata": {},
   "outputs": [
    {
     "name": "stdout",
     "output_type": "stream",
     "text": [
      "The first number is 5\n",
      "The second number is 3\n",
      "Is the first number greater than second? True\n"
     ]
    }
   ],
   "source": [
    "## 39. Check if a number is greater than another number.\n",
    "num1 = int(input(\"Enter the first number:\"))\n",
    "num2 = int(input(\"Enter the second number:\"))\n",
    "print(f\"The first number is {num1}\")\n",
    "print(f\"The second number is {num2}\")\n",
    "print(f\"Is the first number greater than second? {num1 > num2}\")"
   ]
  },
  {
   "cell_type": "code",
   "execution_count": 84,
   "id": "f029b528",
   "metadata": {},
   "outputs": [
    {
     "name": "stdout",
     "output_type": "stream",
     "text": [
      "The number enterd is 5\n",
      "Does the number lie between 1 and 10? True\n"
     ]
    }
   ],
   "source": [
    "## 40. Check if a number lies between 1 and 10.\n",
    "num = int(input(\"Enter a number:\"))\n",
    "print(f\"The number enterd is {num}\")\n",
    "print(f\"Does the number lie between 1 and 10? {0 <=num <=10}\")"
   ]
  },
  {
   "cell_type": "code",
   "execution_count": 3,
   "id": "7b3d46c9",
   "metadata": {},
   "outputs": [
    {
     "name": "stdout",
     "output_type": "stream",
     "text": [
      "['apple', 'mango', 'kiwi']\n"
     ]
    }
   ],
   "source": [
    "## 41. Create a list of 3 fruits and print it.\n",
    "fruit = list([\"apple\", \"mango\", \"kiwi\"])\n",
    "print(fruit)"
   ]
  },
  {
   "cell_type": "code",
   "execution_count": 4,
   "id": "9cf69bb8",
   "metadata": {},
   "outputs": [
    {
     "name": "stdout",
     "output_type": "stream",
     "text": [
      "[1, 2, 3, 2, 4, 1, 5]\n"
     ]
    }
   ],
   "source": [
    "## 42. Create a list with duplicate values and print it.\n",
    "my_list = [1, 2, 3, 2, 4, 1, 5]\n",
    "print(my_list)"
   ]
  },
  {
   "cell_type": "code",
   "execution_count": 5,
   "id": "c9b03bac",
   "metadata": {},
   "outputs": [
    {
     "name": "stdout",
     "output_type": "stream",
     "text": [
      "5\n"
     ]
    }
   ],
   "source": [
    "## 43. Find the length of a list using len().\n",
    "fruit = list([\"apple\", \"kiwi\", \"banana\", \"mango\", \"cherry\"])\n",
    "print(len(fruit))"
   ]
  },
  {
   "cell_type": "code",
   "execution_count": 7,
   "id": "f1ec0dc0",
   "metadata": {},
   "outputs": [
    {
     "name": "stdout",
     "output_type": "stream",
     "text": [
      "[1, 'hello', 3.14, [2, 1, 6]]\n"
     ]
    }
   ],
   "source": [
    "## 44. Create a mixed data type list and print it.\n",
    "mixed_list = [1, \"hello\", 3.14, [2,1,6]]\n",
    "print(mixed_list)"
   ]
  },
  {
   "cell_type": "code",
   "execution_count": 12,
   "id": "1413d0e7",
   "metadata": {},
   "outputs": [
    {
     "name": "stdout",
     "output_type": "stream",
     "text": [
      "banana\n"
     ]
    }
   ],
   "source": [
    "## 45. Access the second element of a list.\n",
    "thislist = [\"apple\", \"banana\", \"cherry\", \"Kiwi\", \"mango\", \"melon\", \"grapes\", \"orange\", \"watermelon\"]\n",
    "my_list = thislist[1]\n",
    "print(my_list)"
   ]
  },
  {
   "cell_type": "code",
   "execution_count": 13,
   "id": "4bcc08f7",
   "metadata": {},
   "outputs": [
    {
     "name": "stdout",
     "output_type": "stream",
     "text": [
      "watermelon\n"
     ]
    }
   ],
   "source": [
    "## 46. Access the last element of a list using negative index.\n",
    "thislist = [\"apple\", \"banana\", \"cherry\", \"Kiwi\", \"mango\", \"melon\", \"grapes\", \"orange\", \"watermelon\"]\n",
    "my_list = thislist[-1]\n",
    "print(my_list)"
   ]
  },
  {
   "cell_type": "code",
   "execution_count": 14,
   "id": "ce57a855",
   "metadata": {},
   "outputs": [
    {
     "name": "stdout",
     "output_type": "stream",
     "text": [
      "['cherry', 'Kiwi', 'mango']\n"
     ]
    }
   ],
   "source": [
    "## 47. Print a sublist using slicing (2:5).\n",
    "thislist = [\"apple\", \"banana\", \"cherry\", \"Kiwi\", \"mango\", \"melon\", \"grapes\", \"orange\", \"watermelon\"]\n",
    "my_list = thislist[2:5]\n",
    "print(my_list)"
   ]
  },
  {
   "cell_type": "code",
   "execution_count": 15,
   "id": "a4da2702",
   "metadata": {},
   "outputs": [
    {
     "name": "stdout",
     "output_type": "stream",
     "text": [
      "['cherry', 'Kiwi', 'mango', 'melon', 'grapes', 'orange', 'watermelon']\n"
     ]
    }
   ],
   "source": [
    "## 48. Print all elements from index 2 to end.\n",
    "thislist = [\"apple\", \"banana\", \"cherry\", \"Kiwi\", \"mango\", \"melon\", \"grapes\", \"orange\", \"watermelon\"]\n",
    "my_list = thislist[2:]\n",
    "print(my_list)"
   ]
  },
  {
   "cell_type": "code",
   "execution_count": 20,
   "id": "678c2475",
   "metadata": {},
   "outputs": [
    {
     "name": "stdout",
     "output_type": "stream",
     "text": [
      "No\n"
     ]
    }
   ],
   "source": [
    "## 49. Check if 'apple' exists in a list.\n",
    "thislist = [\"banana\", \"cherry\", \"Kiwi\", \"mango\", \"melon\", \"grapes\", \"orange\", \"watermelon\"]\n",
    "if \"apple\" in thislist:\n",
    "    print(\"yes\")\n",
    "else:\n",
    "    print(\"No\")"
   ]
  },
  {
   "cell_type": "code",
   "execution_count": 27,
   "id": "494f61e9",
   "metadata": {},
   "outputs": [
    {
     "name": "stdout",
     "output_type": "stream",
     "text": [
      "1\n",
      "2\n",
      "3\n",
      "4\n",
      "5\n",
      "6\n",
      "7\n",
      "8\n",
      "9\n",
      "10\n"
     ]
    }
   ],
   "source": [
    "## 50. Print numbers from 1 to 10 using range() in a loop.\n",
    "for i in range(1, 11):\n",
    "    print(i)"
   ]
  }
 ],
 "metadata": {
  "kernelspec": {
   "display_name": "Python 3",
   "language": "python",
   "name": "python3"
  },
  "language_info": {
   "codemirror_mode": {
    "name": "ipython",
    "version": 3
   },
   "file_extension": ".py",
   "mimetype": "text/x-python",
   "name": "python",
   "nbconvert_exporter": "python",
   "pygments_lexer": "ipython3",
   "version": "3.10.5"
  }
 },
 "nbformat": 4,
 "nbformat_minor": 5
}
