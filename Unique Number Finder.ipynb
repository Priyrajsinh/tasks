{
 "cells": [
  {
   "cell_type": "code",
   "execution_count": 1,
   "id": "b9aab4b8",
   "metadata": {},
   "outputs": [
    {
     "name": "stdout",
     "output_type": "stream",
     "text": [
      "Unique Numbers (100):\n",
      "{1, 2, 3, 4, 5, 6, 7, 8, 9, 10, 11, 12, 13, 14, 15, 16, 17, 18, 19, 20, 21, 22, 23, 24, 25, 26, 27, 28, 29, 30, 31, 32, 33, 34, 35, 36, 37, 38, 39, 40, 41, 42, 43, 44, 45, 46, 47, 48, 49, 50, 51, 52, 53, 54, 55, 56, 57, 58, 59, 60, 61, 62, 63, 64, 65, 66, 67, 68, 69, 70, 71, 72, 73, 74, 75, 76, 77, 78, 79, 80, 81, 82, 83, 84, 85, 86, 87, 88, 89, 90, 91, 92, 93, 94, 95, 96, 97, 98, 99, 100}\n"
     ]
    }
   ],
   "source": [
    "#unique number finder\n",
    "def unique_number_finder():\n",
    "    numbers = list(range(1, 101))  # List of numbers from 1 to 100\n",
    "    duplicate_numbers = [2, 3, 4, 5, 5, 10, 15, 20, 20]  # List with duplicates\n",
    "    all_numbers = numbers + duplicate_numbers\n",
    "\n",
    "    unique_numbers = set(all_numbers)\n",
    "    print(f\"Unique Numbers ({len(unique_numbers)}):\")\n",
    "    print(unique_numbers)\n",
    "\n",
    "unique_number_finder()\n"
   ]
  }
 ],
 "metadata": {
  "kernelspec": {
   "display_name": "Python 3",
   "language": "python",
   "name": "python3"
  },
  "language_info": {
   "codemirror_mode": {
    "name": "ipython",
    "version": 3
   },
   "file_extension": ".py",
   "mimetype": "text/x-python",
   "name": "python",
   "nbconvert_exporter": "python",
   "pygments_lexer": "ipython3",
   "version": "3.10.5"
  }
 },
 "nbformat": 4,
 "nbformat_minor": 5
}
