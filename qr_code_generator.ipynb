{
 "cells": [
  {
   "cell_type": "code",
   "execution_count": 3,
   "id": "d8d2daa6",
   "metadata": {},
   "outputs": [
    {
     "name": "stdout",
     "output_type": "stream",
     "text": [
      "QR code saved as piyu.jpg\n"
     ]
    }
   ],
   "source": [
    "import qrcode\n",
    "\n",
    "data = input(\"Enter the data or URL: \").strip()\n",
    "filename = input(\"Enter the filename: \").strip()\n",
    "qr = qrcode.QRCode(box_size=10, border=4)\n",
    "qr.add_data(data)\n",
    "image = qr.make_image(fill_color=\"black\", back_color=\"white\")\n",
    "image.save(filename)\n",
    "print(f\"QR code saved as {filename}\")"
   ]
  }
 ],
 "metadata": {
  "kernelspec": {
   "display_name": "Python 3",
   "language": "python",
   "name": "python3"
  },
  "language_info": {
   "codemirror_mode": {
    "name": "ipython",
    "version": 3
   },
   "file_extension": ".py",
   "mimetype": "text/x-python",
   "name": "python",
   "nbconvert_exporter": "python",
   "pygments_lexer": "ipython3",
   "version": "3.10.5"
  }
 },
 "nbformat": 4,
 "nbformat_minor": 5
}
