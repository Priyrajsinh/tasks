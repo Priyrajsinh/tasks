{
 "cells": [
  {
   "cell_type": "code",
   "execution_count": 2,
   "id": "e7162b3e",
   "metadata": {},
   "outputs": [
    {
     "name": "stdout",
     "output_type": "stream",
     "text": [
      "3, 3\n",
      "2, 1\n",
      "1, 6\n",
      "Thanks for playing!\n"
     ]
    }
   ],
   "source": [
    "### Dice roolling game\n",
    "import random\n",
    "\n",
    "while True:\n",
    "    choice = input(\"Roll the dice? (y/n):\").lower()\n",
    "    if choice == \"y\":\n",
    "        die1 = random.randint(1, 6)\n",
    "        die2 = random.randint(1, 6)\n",
    "        print(f\"{die1}, {die2}\")\n",
    "    elif choice == \"n\":\n",
    "        print(\"Thanks for playing!\")\n",
    "        break\n",
    "    else:\n",
    "        print(\"Invalid choice\")"
   ]
  }
 ],
 "metadata": {
  "kernelspec": {
   "display_name": "Python 3",
   "language": "python",
   "name": "python3"
  },
  "language_info": {
   "codemirror_mode": {
    "name": "ipython",
    "version": 3
   },
   "file_extension": ".py",
   "mimetype": "text/x-python",
   "name": "python",
   "nbconvert_exporter": "python",
   "pygments_lexer": "ipython3",
   "version": "3.10.5"
  }
 },
 "nbformat": 4,
 "nbformat_minor": 5
}
