{
 "cells": [
  {
   "cell_type": "code",
   "execution_count": 2,
   "id": "82608615",
   "metadata": {},
   "outputs": [
    {
     "name": "stdout",
     "output_type": "stream",
     "text": [
      "The number is Negative.\n"
     ]
    }
   ],
   "source": [
    "\"\"\"Task 1: Number Sign Checker\n",
    "Problem: Write a program that asks the user for a number and tells them if it's positive, negative, or\n",
    "zero. Hint: Use if, elif, and else statements. Remember that 0 is neither positive nor negative.\n",
    "\"\"\"\n",
    "num = float(input(\"Enter a number: \"))\n",
    "\n",
    "if num > 0:\n",
    "    print(\"The number is Positive.\")\n",
    "elif num < 0:\n",
    "    print(\"The number is Negative.\")\n",
    "else:\n",
    "    print(\"The number is Zero.\")\n"
   ]
  },
  {
   "cell_type": "code",
   "execution_count": 12,
   "id": "e8bc5e10",
   "metadata": {},
   "outputs": [
    {
     "name": "stdout",
     "output_type": "stream",
     "text": [
      "You are an Adult.\n"
     ]
    }
   ],
   "source": [
    "\"\"\"Task 2: Age Category\n",
    "Problem: Create a program that categorizes a person's age into: Child (0-12), Teen (13-19), Adult (20-\n",
    "64), Senior (65+). Hint: Use multiple elif statements to check age ranges.\n",
    "\"\"\"\n",
    "age = int(input(\"Enter your age: \"))\n",
    "\n",
    "if 0 <= age <= 12:\n",
    "    print(\"You are a Child.\")\n",
    "elif 13 <= age <= 19:\n",
    "    print(\"You are a Teen.\")\n",
    "elif 20 <= age <= 64:\n",
    "    print(\"You are an Adult.\")\n",
    "elif age >= 65:\n",
    "    print(\"You are a Senior.\")\n",
    "else:\n",
    "    print(\"Invalid age entered.\")\n",
    "\n"
   ]
  },
  {
   "cell_type": "code",
   "execution_count": 13,
   "id": "458a6f81",
   "metadata": {},
   "outputs": [
    {
     "name": "stdout",
     "output_type": "stream",
     "text": [
      "Grade: A\n"
     ]
    }
   ],
   "source": [
    "\"\"\"Task 3: Grade Calculator\n",
    "Problem: Input a numerical score (0-100) and output the letter grade (A: 90-100, B: 80-89, C: 70-79,\n",
    "D: 60-69, F: below 60). Hint: Start checking from the highest grade downward using if and elif.\"\"\"\n",
    "\n",
    "score = int(input(\"Enter your score (0-100): \"))\n",
    "\n",
    "if 90 <= score <= 100:\n",
    "    print(\"Grade: A\")\n",
    "elif 80 <= score <= 89:\n",
    "    print(\"Grade: B\")\n",
    "elif 70 <= score <= 79:\n",
    "    print(\"Grade: C\")\n",
    "elif 60 <= score <= 69:\n",
    "    print(\"Grade: D\")\n",
    "elif 0 <= score < 60:\n",
    "    print(\"Grade: F\")\n",
    "else:\n",
    "    print(\"Invalid score entered.\")\n"
   ]
  },
  {
   "cell_type": "code",
   "execution_count": 15,
   "id": "6264b1f4",
   "metadata": {},
   "outputs": [
    {
     "name": "stdout",
     "output_type": "stream",
     "text": [
      "The number is Odd.\n"
     ]
    }
   ],
   "source": [
    "\"\"\"Task 4: Even or Odd\n",
    "Problem: Write a program that determines if a given number is even or odd. Hint: Use the modulo\n",
    "operator %. If number % 2 == 0, it's even.\"\"\"\n",
    "\n",
    "num = int(input(\"Enter a number: \"))\n",
    "\n",
    "if num % 2 == 0:\n",
    "    print(\"The number is Even.\")\n",
    "else:\n",
    "    print(\"The number is Odd.\")\n"
   ]
  },
  {
   "cell_type": "code",
   "execution_count": 18,
   "id": "99fb95d7",
   "metadata": {},
   "outputs": [
    {
     "name": "stdout",
     "output_type": "stream",
     "text": [
      "2000 Is a Leap Year.\n"
     ]
    }
   ],
   "source": [
    "\"\"\"Task 5: Leap Year Checker\n",
    "Problem: Determine if a given year is a leap year. (Divisible by 4, but not by 100, unless also divisible\n",
    "by 400) Hint: Use logical operators and, or, and not to combine conditions.\"\"\"\n",
    "\n",
    "year = int(input(\"Enter a year: \"))\n",
    "\n",
    "if (year % 4 == 0 and year % 100 != 0) or (year % 400 == 0):\n",
    "    print(year, \"Is a Leap Year.\")\n",
    "else:\n",
    "    print(year, \"Is not a Leap Year.\")\n"
   ]
  },
  {
   "cell_type": "code",
   "execution_count": 21,
   "id": "c06377ee",
   "metadata": {},
   "outputs": [
    {
     "name": "stdout",
     "output_type": "stream",
     "text": [
      "Sui jav barr bav thandi che.\n"
     ]
    }
   ],
   "source": [
    "\"\"\"Task 6: Temperature Advisor\n",
    "Problem: Ask for temperature and give clothing advice: Hot (>80°F), Warm (60-80°F), Cool (40-59°F),\n",
    "Cold (<40°F). Hint: Use comparison operators and elif statements for temperature ranges.\"\"\"\n",
    "\n",
    "\n",
    "temp = float(input(\"Enter the temperature in °F: \"))\n",
    "\n",
    "# Give clothing advice based on temperature range\n",
    "if temp > 80:\n",
    "    print(\"Bav Garmi che yarr pachi barr jaiye.\")\n",
    "elif 60 <= temp <= 80:\n",
    "    print(\"Be bafaro che yarr A.C ma betho reh ne room ma.\")\n",
    "elif 40 <= temp <= 59:\n",
    "    print(\"Chalo Manali.\")\n",
    "elif temp < 40:\n",
    "    print(\"Sui jav barr bav thandi che.\")\n",
    "else:\n",
    "    print(\"Invalid input.\")\n"
   ]
  },
  {
   "cell_type": "code",
   "execution_count": null,
   "id": "802061c5",
   "metadata": {},
   "outputs": [
    {
     "name": "stdout",
     "output_type": "stream",
     "text": [
      "Incorrect login. Attempts left: 2\n",
      "Incorrect login. Attempts left: 1\n",
      "Incorrect login. Attempts left: 0\n",
      "Account locked.Too many failed attempts.\n"
     ]
    }
   ],
   "source": [
    "\"\"\"Task 7: Login System\n",
    "Problem: Create a simple login that checks username and password. Give 3 attempts before locking\n",
    "out. Hint: Use a counter variable and a while loop with if-else inside.\"\"\"\n",
    "\n",
    "username = \"admin\"\n",
    "password = \"1234\"\n",
    "attempts = 3\n",
    "\n",
    "while attempts > 0:\n",
    "    user = input(\"Enter username: \")\n",
    "    pwd = input(\"Enter password: \")\n",
    "    # Check login\n",
    "    if user == username and pwd == password:\n",
    "        print(\"Login successful!\")\n",
    "        break\n",
    "    else:\n",
    "        attempts -= 1\n",
    "        print(f\"Incorrect login. Attempts left: {attempts}\")\n",
    "\n",
    "if attempts == 0:\n",
    "    print(\"Account locked.Too many failed attempts.\")\n"
   ]
  },
  {
   "cell_type": "code",
   "execution_count": 24,
   "id": "666d8d8d",
   "metadata": {},
   "outputs": [
    {
     "name": "stdout",
     "output_type": "stream",
     "text": [
      "The triangle is Equilateral.\n"
     ]
    }
   ],
   "source": [
    "\"\"\"Task 8: Triangle Type Classifier\n",
    "Problem: Input three sides of a triangle and determine if it's equilateral, isosceles, or scalene. Hint:\n",
    "Compare the three sides using == operator in different combinations.\"\"\"\n",
    "\n",
    "a = float(input(\"Enter side a: \"))\n",
    "b = float(input(\"Enter side b: \"))\n",
    "c = float(input(\"Enter side c: \"))\n",
    "\n",
    "# Check if it's a valid triangle first\n",
    "if a + b > c and a + c > b and b + c > a:\n",
    "    # Check type of triangle\n",
    "    if a == b == c:\n",
    "        print(\"The triangle is Equilateral.\")\n",
    "    elif a == b or b == c or a == c:\n",
    "        print(\"The triangle is Isosceles.\")\n",
    "    else:\n",
    "        print(\"The triangle is Scalene.\")\n",
    "else:\n",
    "    print(\"The given sides do not form a valid triangle.\")\n"
   ]
  },
  {
   "cell_type": "code",
   "execution_count": 28,
   "id": "e2962163",
   "metadata": {},
   "outputs": [
    {
     "name": "stdout",
     "output_type": "stream",
     "text": [
      "Your BMI is: 32.44\n",
      "Category: Obese\n"
     ]
    }
   ],
   "source": [
    "\"\"\"Task 9: BMI Calculator with Categories\n",
    "Problem: Calculate BMI and categorize: Underweight (<18.5), Normal (18.5-24.9), Overweight (25-\n",
    "29.9), Obese (≥30). Hint: BMI = weight(kg) / height(m)². Use elif for different ranges.\"\"\"\n",
    "\n",
    "weight = float(input(\"Enter your weight in kg: \"))\n",
    "height = float(input(\"Enter your height in meters: \"))\n",
    "\n",
    "bmi = weight / (height ** 2)\n",
    "print(f\"Your BMI is: {bmi:.2f}\")\n",
    "\n",
    "if bmi < 18.5:\n",
    "    print(\"Category: Underweight\")\n",
    "elif 18.5 <= bmi <= 24.9:\n",
    "    print(\"Category: Normal weight\")\n",
    "elif 25 <= bmi <= 29.9:\n",
    "    print(\"Category: Overweight\")\n",
    "else:\n",
    "    print(\"Category: Obese\")\n"
   ]
  },
  {
   "cell_type": "code",
   "execution_count": 31,
   "id": "4e58b733",
   "metadata": {},
   "outputs": [
    {
     "name": "stdout",
     "output_type": "stream",
     "text": [
      "You are eligible to vote.\n"
     ]
    }
   ],
   "source": [
    "\"\"\"Task 10: Voting Eligibility\n",
    "Problem: Check if a person can vote based on age (≥18) and citizenship status. Hint: Use logical and\n",
    "operator to check both conditions.\"\"\"\n",
    "\n",
    "age = int(input(\"Enter your age: \"))\n",
    "citizen = input(\"Are you a citizen? (yes/no): \")\n",
    "\n",
    "if age >= 18 and citizen == \"yes\":\n",
    "    print(\"You are eligible to vote.\")\n",
    "else:\n",
    "    print(\"You are NOT eligible to vote.\")\n"
   ]
  },
  {
   "cell_type": "code",
   "execution_count": 34,
   "id": "9897a498",
   "metadata": {},
   "outputs": [
    {
     "name": "stdout",
     "output_type": "stream",
     "text": [
      "Password Strength: Strong \n"
     ]
    }
   ],
   "source": [
    "\"\"\"Task 11: Password Strength Checker\n",
    "Problem: Evaluate password strength: Weak (length < 6), Medium (6-8 chars), Strong (>8 chars with\n",
    "numbers). Hint: Use len() function and any(char.isdigit() for char in password) to check for numbers.\"\"\"\n",
    "\n",
    "password = input(\"Enter your password: \")\n",
    "length = len(password)\n",
    "\n",
    "if length < 6:\n",
    "    print(\"Password Strength: Weak \")\n",
    "elif 6 <= length <= 8:\n",
    "    print(\"Password Strength: Medium \")\n",
    "elif length > 8:\n",
    "    # Check for at least one number\n",
    "    if any(char.isdigit() for char in password):\n",
    "        print(\"Password Strength: Strong \")\n",
    "    else:\n",
    "        print(\"Password Strength: Medium (Add numbers to make it stronger)\")\n"
   ]
  },
  {
   "cell_type": "code",
   "execution_count": 36,
   "id": "9655ed11",
   "metadata": {},
   "outputs": [
    {
     "name": "stdout",
     "output_type": "stream",
     "text": [
      "Season: Spring\n"
     ]
    }
   ],
   "source": [
    "\"\"\"Task 12: Season Identifier\n",
    "Problem: Input a month number (1-12) and output the season. Hint: Group months: Winter (12,1,2),\n",
    "Spring (3,4,5), Summer (6,7,8), Fall (9,10,11).\"\"\"\n",
    "\n",
    "month = int(input(\"Enter month number (1-12): \"))\n",
    "\n",
    "if month in (12, 1, 2):\n",
    "    print(\"Season: Winter\")\n",
    "elif month in (3, 4, 5):\n",
    "    print(\"Season: Spring\")\n",
    "elif month in (6, 7, 8):\n",
    "    print(\"Season: Summer\")\n",
    "elif month in (9, 10, 11):\n",
    "    print(\"Season: Fall\")\n",
    "else:\n",
    "    print(\"Invalid month number\")\n"
   ]
  },
  {
   "cell_type": "code",
   "execution_count": 1,
   "id": "ab67665d",
   "metadata": {},
   "outputs": [
    {
     "name": "stdout",
     "output_type": "stream",
     "text": [
      "Choose operation: +, -, *, /\n",
      "Result: 30.0\n"
     ]
    }
   ],
   "source": [
    "\"\"\"Task 13: Simple Calculator\n",
    "Problem: Create a calculator that performs basic operations (+, -, *, /) on two float numbers. Hint:\n",
    "Use float(input()) to get decimal numbers. Handle division by zero with if-else.\n",
    "\"\"\"\n",
    "\n",
    "num1 = float(input(\"Enter first number: \"))\n",
    "num2 = float(input(\"Enter second number: \"))\n",
    "\n",
    "print(\"Choose operation: +, -, *, /\")\n",
    "op = input(\"Enter operator: \")\n",
    "\n",
    "if op == \"+\":\n",
    "    print(\"Result:\", num1 + num2)\n",
    "elif op == \"-\":\n",
    "    print(\"Result:\", num1 - num2)\n",
    "elif op == \"*\":\n",
    "    print(\"Result:\", num1 * num2)\n",
    "elif op == \"/\":\n",
    "    if num2 != 0:\n",
    "        print(\"Result:\", num1 / num2)\n",
    "    else:\n",
    "        print(\"Error: Division by zero is not allowed\")\n",
    "else:\n",
    "    print(\"Invalid operator\")\n"
   ]
  },
  {
   "cell_type": "code",
   "execution_count": 2,
   "id": "b6881973",
   "metadata": {},
   "outputs": [
    {
     "name": "stdout",
     "output_type": "stream",
     "text": [
      "Area of circle: 1698.23\n",
      "Circumference of circle: 146.08\n"
     ]
    }
   ],
   "source": [
    "\"\"\"Task 14: Circle Area and Circumference\n",
    "Problem: Input radius as float and calculate both area and circumference of a circle. Hint: Import\n",
    "math module for pi: import math. Area = π×r², Circumference = 2×π×r.\n",
    "\"\"\"\n",
    "import math\n",
    "radius = float(input(\"Enter the radius of the circle: \"))\n",
    "area = math.pi * (radius ** 2)\n",
    "circumference = 2 * math.pi * radius\n",
    "\n",
    "print(f\"Area of circle: {area:.2f}\")\n",
    "print(f\"Circumference of circle: {circumference:.2f}\")"
   ]
  },
  {
   "cell_type": "code",
   "execution_count": null,
   "id": "3f0726cf",
   "metadata": {},
   "outputs": [
    {
     "name": "stdout",
     "output_type": "stream",
     "text": [
      "80.00 USD = 6660.00 INR\n",
      "80.00 USD = 73.60 EUR\n",
      "80.00 USD = 63.20 GBP\n",
      "80.00 USD = 11948.00 JPY\n"
     ]
    }
   ],
   "source": [
    "\"\"\"Task 15: Currency Converter\n",
    "Problem: Convert dollars to other currencies using float exchange rates. Hint: Store exchange rates\n",
    "as float variables. Multiply dollar amount by the rate.\"\"\"\n",
    "\n",
    "usd_to_inr = 83.25\n",
    "usd_to_eur = 0.92\n",
    "usd_to_gbp = 0.79\n",
    "usd_to_jpy = 149.35\n",
    "\n",
    "usd = float(input(\"Enter amount in usd: \"))\n",
    "\n",
    "inr = usd * usd_to_inr\n",
    "eur = usd * usd_to_eur\n",
    "gbp = usd * usd_to_gbp\n",
    "jpy = usd * usd_to_jpy\n",
    "\n",
    "print(f\"{usd:.2f} USD = {inr:.2f} INR\")\n",
    "print(f\"{usd:.2f} USD = {eur:.2f} EUR\")\n",
    "print(f\"{usd:.2f} USD = {gbp:.2f} GBP\")\n",
    "print(f\"{usd:.2f} USD = {jpy:.2f} JPY\")"
   ]
  },
  {
   "cell_type": "code",
   "execution_count": 8,
   "id": "8133fdda",
   "metadata": {},
   "outputs": [
    {
     "name": "stdout",
     "output_type": "stream",
     "text": [
      "Bill Amount:  1988.0\n",
      "Tip added in percentage:  15.0\n",
      "Tip amount: 298.20\n",
      "Total bill(with tip): 2286.20\n"
     ]
    }
   ],
   "source": [
    "\"\"\"Task 16: Tip Calculator\n",
    "Problem: Calculate tip amount and total bill based on bill amount and tip percentage (both floats).\n",
    "Hint: Tip = bill_amount × (tip_percentage / 100). Total = bill_amount + tip.\n",
    "\"\"\"\n",
    "bill = float(input(\"Enter the bill amount: \"))\n",
    "print(\"Bill Amount: \",bill)\n",
    "tip_per = float(input(\"Enter the tip percentage: \"))\n",
    "print(\"Tip added in percentage: \",tip_per)\n",
    "\n",
    "tip = bill * (tip_per / 100)\n",
    "total = bill + tip\n",
    "\n",
    "print(f\"Tip amount: {tip:.2f}\")\n",
    "print(f\"Total bill(with tip): {total:.2f}\")"
   ]
  },
  {
   "cell_type": "code",
   "execution_count": 9,
   "id": "b6ca4fe7",
   "metadata": {},
   "outputs": [
    {
     "name": "stdout",
     "output_type": "stream",
     "text": [
      "Final Amount: 13462600.45\n",
      "Compound Interest: 12462600.45\n"
     ]
    }
   ],
   "source": [
    "\"\"\"Task 17: Compound Interest Calculator\n",
    "Problem: Calculate compound interest given principal, rate, time, and compounding frequency (all\n",
    "floats). Hint: Formula: A = P(1 + r/n)^(nt). Use ** for exponentiation.\n",
    "\"\"\"\n",
    "principal = float(input(\"Enter the principal amount: \"))\n",
    "rate = float(input(\"Enter annual interest rate (in %): \"))\n",
    "time = float(input(\"Enter time in years: \"))\n",
    "n = float(input(\"Enter compounding frequency per year: \"))\n",
    "r = rate / 100  \n",
    "\n",
    "amount = principal * (1 + r / n) ** (n * time)\n",
    "compound_interest = amount - principal\n",
    "\n",
    "print(f\"Final Amount: {amount:.2f}\")\n",
    "print(f\"Compound Interest: {compound_interest:.2f}\")\n"
   ]
  },
  {
   "cell_type": "code",
   "execution_count": 10,
   "id": "1164f973",
   "metadata": {},
   "outputs": [
    {
     "name": "stdout",
     "output_type": "stream",
     "text": [
      "Distance between points: 1.41\n"
     ]
    }
   ],
   "source": [
    "\"\"\"Task 18: Distance Between Points\n",
    "Problem: Calculate distance between two points (x1,y1) and (x2,y2) using float coordinates. Hint:\n",
    "Distance = √[(x2-x1)² + (y2-y1)²]. Use math.sqrt() function.\"\"\"\n",
    "\n",
    "import math\n",
    "\n",
    "x1 = float(input(\"Enter x1: \"))\n",
    "y1 = float(input(\"Enter y1: \"))\n",
    "x2 = float(input(\"Enter x2: \"))\n",
    "y2 = float(input(\"Enter y2: \"))\n",
    "\n",
    "dis = math.sqrt((x2 - x1) **2 + (y2 - y1) ** 2)\n",
    "print(f\"Distance between points: {dis:.2f}\")"
   ]
  },
  {
   "cell_type": "code",
   "execution_count": 13,
   "id": "db4d8f0f",
   "metadata": {},
   "outputs": [
    {
     "name": "stdout",
     "output_type": "stream",
     "text": [
      "Distance travelled in KM: 250.0\n",
      "Fuel used in Liters 12.0\n",
      "Fuel Effiency: 20.83\n"
     ]
    }
   ],
   "source": [
    "\"\"\"Task 19: Fuel Efficiency Calculator\n",
    "Problem: Calculate kilometers per liter given distance (float) and fuel used (float). Hint: KPL = distance\n",
    "/ fuel_used. Handle zero fuel case.\"\"\"\n",
    "\n",
    "distance = float(input(\"Enter distance traveled in KM\"))\n",
    "print(\"Distance travelled in KM:\", distance)\n",
    "fuel_used = float(input(\"Enter fuel used in Liters\"))\n",
    "print(\"Fuel used in Liters\", fuel_used)\n",
    "\n",
    "if fuel_used > 0:\n",
    "    KPL = distance / fuel_used\n",
    "    print(f\"Fuel Effiency: {KPL:.2f}\")\n",
    "else:\n",
    "    print(\"Error: Fuel used cannot be zero\")"
   ]
  },
  {
   "cell_type": "code",
   "execution_count": 1,
   "id": "8e43aa56",
   "metadata": {},
   "outputs": [
    {
     "name": "stdout",
     "output_type": "stream",
     "text": [
      "Temperature Converter\n",
      "1. Celsius to Fahrenheit\n",
      "2. Celsius to Kelvin\n",
      "3. Fahrenheit to Celsius\n",
      "43.00 °C = 109.40 °F\n"
     ]
    }
   ],
   "source": [
    "\"\"\"Task 20: Temperature Converter\n",
    "Problem: Convert between Celsius, Fahrenheit, and Kelvin using float inputs. Hint: F = C×9/5 + 32, K\n",
    "= C + 273.15. Create a menu system.\"\"\"\n",
    "\n",
    "print(\"Temperature Converter\")\n",
    "print(\"1. Celsius to Fahrenheit\")\n",
    "print(\"2. Celsius to Kelvin\")\n",
    "print(\"3. Fahrenheit to Celsius\")\n",
    "\n",
    "choice = int(input(\"Enter your choice (1-3): \"))\n",
    "\n",
    "# Perform conversion\n",
    "if choice == 1:\n",
    "    c = float(input(\"Enter temperature in Celsius: \"))\n",
    "    f = (c * 9/5) + 32\n",
    "    print(f\"{c:.2f} °C = {f:.2f} °F\")\n",
    "\n",
    "elif choice == 2:\n",
    "    c = float(input(\"Enter temperature in Celsius: \"))\n",
    "    k = c + 273.15\n",
    "    print(f\"{c:.2f} °C = {k:.2f} K\")\n",
    "\n",
    "elif choice == 3:\n",
    "    f = float(input(\"Enter temperature in Fahrenheit: \"))\n",
    "    c = (f - 32) * 5/9\n",
    "    print(f\"{f:.2f} °F = {c:.2f} °C\")\n",
    "\n",
    "else:\n",
    "    print(\"Invalid choice\")\n"
   ]
  },
  {
   "cell_type": "code",
   "execution_count": null,
   "id": "b0a5485a",
   "metadata": {},
   "outputs": [],
   "source": [
    "\"\"\"Task 21: Loan Payment Calculator Problem: Calculate monthly payment for a loan using principal, annual rate, and years (floats). Hint: Monthly rate = annual_rate/12/100. Use loan payment formula.\"\"\"\n",
    "# Input values\n",
    "principal = float(input(\"Enter the loan amount (principal): \"))\n",
    "annual_rate = float(input(\"Enter the annual interest rate (in %): \"))\n",
    "years = float(input(\"Enter the loan period (in years): \"))\n",
    "\n",
    "# Calculate monthly rate and number of payments\n",
    "monthly_rate = annual_rate / 12 / 100\n",
    "months = int(years * 12)\n",
    "\n",
    "# Loan payment formula: M = P * [r(1+r)^n] / [(1+r)^n - 1]\n",
    "if monthly_rate > 0:\n",
    "    monthly_payment = principal * (monthly_rate * (1 + monthly_rate) ** months) / ((1 + monthly_rate) ** months - 1)\n",
    "else:\n",
    "    # No interest case\n",
    "    monthly_payment = principal / months\n",
    "\n",
    "# Show result\n",
    "print(f\"Monthly Payment: {monthly_payment:.2f}\")\n"
   ]
  },
  {
   "cell_type": "code",
   "execution_count": 2,
   "id": "0c7e4e6c",
   "metadata": {},
   "outputs": [
    {
     "name": "stdout",
     "output_type": "stream",
     "text": [
      "Total Cost: 2066.00\n",
      "Cost per person: 413.20\n"
     ]
    }
   ],
   "source": [
    "\"\"\"Task 22: Pizza Cost Per Person\n",
    "Problem: Calculate cost per person when ordering pizzas, including tax and tip (all floats). Hint: Total\n",
    "cost = (pizza_cost + tax + tip) / number_of_people.\"\"\"\n",
    "pizza_cost = float(input(\"Enter total pizza cost (before tax and tip): \"))\n",
    "tax = float(input(\"Enter tax amount: \"))\n",
    "tip = float(input(\"Enter tip amount: \"))\n",
    "people = int(input(\"Enter number of people: \"))\n",
    "\n",
    "total_cost = pizza_cost + tax + tip\n",
    "\n",
    "if people > 0:\n",
    "    cost_per_person = total_cost / people\n",
    "    print(f\"Total Cost: {total_cost:.2f}\")\n",
    "    print(f\"Cost per person: {cost_per_person:.2f}\")\n",
    "else:\n",
    "    print(\"Error: Number of people must be greater than zero\")\n"
   ]
  },
  {
   "cell_type": "code",
   "execution_count": 6,
   "id": "073cac0a",
   "metadata": {},
   "outputs": [
    {
     "name": "stdout",
     "output_type": "stream",
     "text": [
      "\n",
      "It will take approximately 5.54 years for the investment to double.\n"
     ]
    }
   ],
   "source": [
    "\"\"\"Task 25: Investment Growth Calculator Problem: Calculate how long it takes for an investment to double given annual return rate (float). Hint: Use Rule of 72: Years ≈ 72 / annual_return_rate.\"\"\"\n",
    "\n",
    "annual_return_rate = float(input(\"Enter annual return rate (in %): \"))\n",
    "\n",
    "if annual_return_rate > 0:\n",
    "    years = 72 / annual_return_rate\n",
    "    print(f\"\\nIt will take approximately {years:.2f} years for the investment to double.\")\n",
    "else:\n",
    "    print(\"Annual return rate must be greater than 0\")\n"
   ]
  },
  {
   "cell_type": "code",
   "execution_count": 9,
   "id": "edc494d7",
   "metadata": {},
   "outputs": [
    {
     "name": "stdout",
     "output_type": "stream",
     "text": [
      "Welcome to the game \n",
      "Guess the number between 1-100\n"
     ]
    },
    {
     "ename": "ValueError",
     "evalue": "invalid literal for int() with base 10: ''",
     "output_type": "error",
     "traceback": [
      "\u001b[1;31m---------------------------------------------------------------------------\u001b[0m",
      "\u001b[1;31mValueError\u001b[0m                                Traceback (most recent call last)",
      "Cell \u001b[1;32mIn[9], line 12\u001b[0m\n\u001b[0;32m      9\u001b[0m guessed \u001b[38;5;241m=\u001b[39m \u001b[38;5;28;01mFalse\u001b[39;00m\n\u001b[0;32m     11\u001b[0m \u001b[38;5;28;01mwhile\u001b[39;00m \u001b[38;5;129;01mnot\u001b[39;00m guessed:\n\u001b[1;32m---> 12\u001b[0m     guess \u001b[38;5;241m=\u001b[39m \u001b[38;5;28;43mint\u001b[39;49m\u001b[43m(\u001b[49m\u001b[38;5;28;43minput\u001b[39;49m\u001b[43m(\u001b[49m\u001b[38;5;124;43m\"\u001b[39;49m\u001b[38;5;124;43mEnter your Guess: \u001b[39;49m\u001b[38;5;124;43m\"\u001b[39;49m\u001b[43m)\u001b[49m\u001b[43m)\u001b[49m\n\u001b[0;32m     14\u001b[0m     \u001b[38;5;28;01mif\u001b[39;00m guess \u001b[38;5;241m<\u001b[39m number:\n\u001b[0;32m     15\u001b[0m         \u001b[38;5;28mprint\u001b[39m(\u001b[38;5;124m\"\u001b[39m\u001b[38;5;124mTo low\u001b[39m\u001b[38;5;124m\"\u001b[39m)\n",
      "\u001b[1;31mValueError\u001b[0m: invalid literal for int() with base 10: ''"
     ]
    }
   ],
   "source": [
    "\"\"\"Task 26: Number Guessing Game\n",
    "Problem: Create a guessing game where user tries to guess a random number. Continue until correct.\n",
    "Hint: Use import random and random.randint(). Use while loop with boolean condition.\"\"\"\n",
    "import random\n",
    "number = random.randint(1, 100)\n",
    "print(\"Welcome to the game \")\n",
    "print(\"Guess the number between 1-100\")\n",
    "\n",
    "guessed = False\n",
    "\n",
    "while not guessed:\n",
    "    guess = int(input(\"Enter your Guess: \"))\n",
    "\n",
    "    if guess < number:\n",
    "        print(\"To low\")\n",
    "    elif guess > number:\n",
    "        print(\"To high\")\n",
    "    else:\n",
    "        print(\"Congrates! you guessed it right: {number}\")"
   ]
  },
  {
   "cell_type": "code",
   "execution_count": 10,
   "id": "3ded0329",
   "metadata": {},
   "outputs": [
    {
     "name": "stdout",
     "output_type": "stream",
     "text": [
      "Enter numbers to add (enter 0 to stop):\n",
      "\n",
      "The total sum is: 3281.0\n"
     ]
    }
   ],
   "source": [
    "\"\"\"Task 27: Sum Until Zero Problem: Keep asking for numbers and sum them until user enters 0. Hint: Initialize sum = 0 before loop. Use while True: and break when input is 0\"\"\"\n",
    "\n",
    "total = 0\n",
    "print(\"Enter numbers to add (enter 0 to stop):\")\n",
    "\n",
    "while True:\n",
    "    num = float(input(\"Enter a number: \"))\n",
    "    if num == 0:\n",
    "        break\n",
    "    total += num\n",
    "\n",
    "print(f\"\\nThe total sum is: {total}\")\n"
   ]
  },
  {
   "cell_type": "code",
   "execution_count": 11,
   "id": "b654c90b",
   "metadata": {},
   "outputs": [
    {
     "name": "stdout",
     "output_type": "stream",
     "text": [
      "23\n",
      "22\n",
      "21\n",
      "20\n",
      "19\n",
      "18\n",
      "17\n",
      "16\n",
      "15\n",
      "14\n",
      "13\n",
      "12\n",
      "11\n",
      "10\n",
      "9\n",
      "8\n",
      "7\n",
      "6\n",
      "5\n",
      "4\n",
      "3\n",
      "2\n",
      "1\n",
      "Time's up!\n"
     ]
    }
   ],
   "source": [
    "\"\"\"Task 28: Countdown Timer\n",
    "Problem: Ask for a starting number and count down to zero, displaying each number. Hint: Use while\n",
    "number > 0: and decrement the number each iteration.\n",
    "\"\"\"\n",
    "number = int(input(\"Enter a starting number: \"))\n",
    "\n",
    "while number > 0:\n",
    "    print(number)\n",
    "    number -= 1\n",
    "\n",
    "print(\"Time's up!\")\n"
   ]
  },
  {
   "cell_type": "code",
   "execution_count": 12,
   "id": "c4f2dd17",
   "metadata": {},
   "outputs": [
    {
     "name": "stdout",
     "output_type": "stream",
     "text": [
      "incorrect, try again\n",
      "incorrect, try again\n",
      "incorrect, try again\n",
      "incorrect, try again\n",
      "incorrect, try again\n",
      "incorrect, try again\n",
      "incorrect, try again\n",
      "incorrect, try again\n",
      "incorrect, try again\n",
      "incorrect, try again\n",
      "Access Granted\n"
     ]
    }
   ],
   "source": [
    "\"\"\"Task 29: Password Validation Loop\n",
    "Problem: Keep asking for password until user enters the correct one. Hint: Use while password !=\n",
    "correct_password: and update password inside loop.\"\"\"\n",
    "\n",
    "correct_pass = \"priyraj4323\"\n",
    "password = input(\"Enter Password: \")\n",
    "\n",
    "while password != correct_pass:\n",
    "    print(\"incorrect, try again\")\n",
    "    password = input(\"Enter password: \")\n",
    "\n",
    "print(\"Access Granted\")"
   ]
  },
  {
   "cell_type": "code",
   "execution_count": 13,
   "id": "65d39819",
   "metadata": {},
   "outputs": [
    {
     "name": "stdout",
     "output_type": "stream",
     "text": [
      "\n",
      "=== Menu ===\n",
      "1. Say Hello\n",
      "2. Show Current Option\n",
      "3. Exit\n",
      "You selected option 2.\n",
      "\n",
      "=== Menu ===\n",
      "1. Say Hello\n",
      "2. Show Current Option\n",
      "3. Exit\n",
      "Hello!\n",
      "\n",
      "=== Menu ===\n",
      "1. Say Hello\n",
      "2. Show Current Option\n",
      "3. Exit\n",
      "Exiting menu. Goodbye!\n"
     ]
    }
   ],
   "source": [
    "\"\"\"Task 30: Menu System\n",
    "Problem: Create a menu that keeps showing options until user chooses to exit. Hint: Use while True:\n",
    "and break when user selects exit option.\"\"\"\n",
    "\n",
    "while True:\n",
    "    print(\"\\n=== Menu ===\")\n",
    "    print(\"1. Say Hello\")\n",
    "    print(\"2. Show Current Option\")\n",
    "    print(\"3. Exit\")\n",
    "\n",
    "    choice = input(\"Enter your choice (1-3): \")\n",
    "\n",
    "    if choice == \"1\":\n",
    "        print(\"Hello!\")\n",
    "    elif choice == \"2\":\n",
    "        print(\"You selected option 2.\")\n",
    "    elif choice == \"3\":\n",
    "        print(\"Exiting menu. Goodbye!\")\n",
    "        break\n",
    "    else:\n",
    "        print(\"Invalid choice. Try again\")\n"
   ]
  },
  {
   "cell_type": "code",
   "execution_count": 2,
   "id": "f010848f",
   "metadata": {},
   "outputs": [
    {
     "ename": "KeyboardInterrupt",
     "evalue": "",
     "output_type": "error",
     "traceback": [
      "\u001b[1;31m---------------------------------------------------------------------------\u001b[0m",
      "\u001b[1;31mKeyboardInterrupt\u001b[0m                         Traceback (most recent call last)",
      "Cell \u001b[1;32mIn[2], line 12\u001b[0m\n\u001b[0;32m     10\u001b[0m i \u001b[38;5;241m=\u001b[39m \u001b[38;5;241m1\u001b[39m\n\u001b[0;32m     11\u001b[0m \u001b[38;5;28;01mwhile\u001b[39;00m \u001b[38;5;241m1\u001b[39m\u001b[38;5;241m<\u001b[39m\u001b[38;5;241m=\u001b[39m num:\n\u001b[1;32m---> 12\u001b[0m     result \u001b[38;5;241m*\u001b[39m\u001b[38;5;241m=\u001b[39m i\n\u001b[0;32m     13\u001b[0m     i \u001b[38;5;241m+\u001b[39m\u001b[38;5;241m=\u001b[39m \u001b[38;5;241m1\u001b[39m\n\u001b[0;32m     14\u001b[0m \u001b[38;5;28mprint\u001b[39m(\u001b[38;5;124mf\u001b[39m\u001b[38;5;124m\"\u001b[39m\u001b[38;5;124mThe factorial of \u001b[39m\u001b[38;5;132;01m{\u001b[39;00mnum\u001b[38;5;132;01m}\u001b[39;00m\u001b[38;5;124m is: \u001b[39m\u001b[38;5;132;01m{\u001b[39;00mresult\u001b[38;5;132;01m}\u001b[39;00m\u001b[38;5;124m\"\u001b[39m)\n",
      "\u001b[1;31mKeyboardInterrupt\u001b[0m: "
     ]
    }
   ],
   "source": [
    "\"\"\"Task 31: Factorial Calculator\n",
    "Problem: Calculate factorial of a number using while loop. Hint: Initialize result = 1, use while loop to\n",
    "multiply from 1 to n.\n",
    "\"\"\"\n",
    "num = int(input(\"Enter a Number: \"))\n",
    "if num < 0:\n",
    "    print(\"Negative nummber are not allowed in factorial\")\n",
    "else:\n",
    "    result = 1\n",
    "    i = 1\n",
    "    while 1<= num:\n",
    "        result *= i\n",
    "        i += 1\n",
    "    print(f\"The factorial of {num} is: {result}\")\n",
    "    "
   ]
  },
  {
   "cell_type": "code",
   "execution_count": 5,
   "id": "b974621a",
   "metadata": {},
   "outputs": [
    {
     "ename": "KeyboardInterrupt",
     "evalue": "",
     "output_type": "error",
     "traceback": [
      "\u001b[1;31m---------------------------------------------------------------------------\u001b[0m",
      "\u001b[1;31mKeyboardInterrupt\u001b[0m                         Traceback (most recent call last)",
      "Cell \u001b[1;32mIn[5], line 12\u001b[0m\n\u001b[0;32m     10\u001b[0m     i \u001b[38;5;241m=\u001b[39m \u001b[38;5;241m1\u001b[39m\n\u001b[0;32m     11\u001b[0m     \u001b[38;5;28;01mwhile\u001b[39;00m \u001b[38;5;241m1\u001b[39m\u001b[38;5;241m<\u001b[39m\u001b[38;5;241m=\u001b[39m num:\n\u001b[1;32m---> 12\u001b[0m         result \u001b[38;5;241m*\u001b[39m\u001b[38;5;241m=\u001b[39m i\n\u001b[0;32m     13\u001b[0m         i \u001b[38;5;241m+\u001b[39m\u001b[38;5;241m=\u001b[39m \u001b[38;5;241m1\u001b[39m\n\u001b[0;32m     14\u001b[0m \u001b[38;5;28mprint\u001b[39m(\u001b[38;5;124mf\u001b[39m\u001b[38;5;124m\"\u001b[39m\u001b[38;5;124mThe factorial of \u001b[39m\u001b[38;5;132;01m{\u001b[39;00mnum\u001b[38;5;132;01m}\u001b[39;00m\u001b[38;5;124m is: \u001b[39m\u001b[38;5;132;01m{\u001b[39;00mresult\u001b[38;5;132;01m}\u001b[39;00m\u001b[38;5;124m\"\u001b[39m)\n",
      "\u001b[1;31mKeyboardInterrupt\u001b[0m: "
     ]
    }
   ],
   "source": [
    "\"\"\"Task 31: Factorial Calculator\n",
    "Problem: Calculate factorial of a number using while loop. Hint: Initialize result = 1, use while loop to\n",
    "multiply from 1 to n.\n",
    "\"\"\"\n",
    "num = int(input(\"Enter a Number: \"))\n",
    "if num < 0:\n",
    "    print(\"Negative nummber are not allowed in factorial\")\n",
    "else:\n",
    "    result = 1\n",
    "    i = 1\n",
    "    while 1<= num:\n",
    "        result *= i\n",
    "        i += 1\n",
    "    print(f\"The factorial of {num} is: {result}\")"
   ]
  },
  {
   "cell_type": "code",
   "execution_count": 6,
   "id": "1ed1e4a9",
   "metadata": {},
   "outputs": [
    {
     "name": "stdout",
     "output_type": "stream",
     "text": [
      "\n",
      "Fibonacci sequence up to 5 terms:\n",
      "0 1 1 2 3 "
     ]
    }
   ],
   "source": [
    "\"\"\"Task 32: Fibonacci Sequence\n",
    "Problem: Generate Fibonacci sequence up to n terms using while loop. Hint: Start with a=0, b=1. In\n",
    "loop: next = a+b, then update a=b, b=next.\n",
    "\"\"\"\n",
    "n = int(input(\"Enter number of terms: \"))\n",
    "a, b = 0, 1\n",
    "count = 0\n",
    "print(f\"\\nFibonacci sequence up to {n} terms:\")\n",
    "\n",
    "while count < n:\n",
    "    print(a, end=\" \")\n",
    "    next_num = a + b\n",
    "    a = b\n",
    "    b = next_num\n",
    "    count += 1\n"
   ]
  },
  {
   "cell_type": "code",
   "execution_count": 7,
   "id": "57e3a95a",
   "metadata": {},
   "outputs": [
    {
     "name": "stdout",
     "output_type": "stream",
     "text": [
      "The digital root is: 5\n"
     ]
    }
   ],
   "source": [
    "\"\"\"Task 33: Digital Root Calculator\n",
    "Problem: Keep summing digits of a number until single digit remains. Hint: Use while loop with\n",
    "condition while number > 9:. Sum digits using modulo and division.\"\"\"\n",
    "\n",
    "num = int(input(\"Enter a number: \"))\n",
    "\n",
    "while num > 9: \n",
    "    digit_sum = 0\n",
    "    while num > 0:\n",
    "        digit_sum += num % 10  \n",
    "        num //= 10              \n",
    "    num = digit_sum             \n",
    "print(f\"The digital root is: {num}\")\n"
   ]
  },
  {
   "cell_type": "code",
   "execution_count": 9,
   "id": "9cffba81",
   "metadata": {},
   "outputs": [
    {
     "name": "stdout",
     "output_type": "stream",
     "text": [
      "\n",
      "=== Bank Account Menu ===\n",
      "1. Deposit\n",
      "2. Widthdrawal\n",
      "3. Check balance\n",
      "4. Quiet\n",
      "Amount Deposited $10000.00\n",
      "\n",
      "=== Bank Account Menu ===\n",
      "1. Deposit\n",
      "2. Widthdrawal\n",
      "3. Check balance\n",
      "4. Quiet\n",
      "Widthdrawn $5000.00\n",
      "\n",
      "=== Bank Account Menu ===\n",
      "1. Deposit\n",
      "2. Widthdrawal\n",
      "3. Check balance\n",
      "4. Quiet\n",
      "Current balance: $5000.00\n",
      "\n",
      "=== Bank Account Menu ===\n",
      "1. Deposit\n",
      "2. Widthdrawal\n",
      "3. Check balance\n",
      "4. Quiet\n",
      "Thsnk you for using the Bank simulator. Goodbye!\n"
     ]
    }
   ],
   "source": [
    "\"\"\"Task 34: Bank Account Simulator\n",
    "Problem: Simulate bank account with deposit/withdraw options. Continue until user quits. Hint: Use\n",
    "while loop for menu, track balance, validate transactions.\"\"\"\n",
    "\n",
    "balance = 0.0\n",
    "\n",
    "while True:\n",
    "    print(\"\\n=== Bank Account Menu ===\")\n",
    "    print(\"1. Deposit\")\n",
    "    print(\"2. Widthdrawal\")\n",
    "    print(\"3. Check balance\")\n",
    "    print(\"4. Quiet\")\n",
    "\n",
    "    choice = input(\"Enter your choice(1-4)\")\n",
    "\n",
    "    if choice == \"1\":\n",
    "        amount = float(input(\"Enter Deposit amount: \"))\n",
    "        if amount > 0:\n",
    "            balance += amount\n",
    "            print(f\"Amount Deposited ${amount:.2f}\")\n",
    "        else:\n",
    "            print(\"Ivalid deposit amoount:\")\n",
    "        \n",
    "    elif choice == \"2\":\n",
    "        amount = float(input(\"Enter withdrawal amount: \"))\n",
    "        if 0 < amount <= balance:\n",
    "            balance -= amount\n",
    "            print(f\"Widthdrawn ${amount:.2f}\")\n",
    "        else:\n",
    "            print(\"Insufficient balanceor invalid amount\")\n",
    "        \n",
    "    elif choice == \"3\":\n",
    "        print(f\"Current balance: ${balance:.2f}\")\n",
    "    \n",
    "    elif choice == \"4\":\n",
    "        print(\"Thsnk you for using the Bank simulator. Goodbye!\")\n",
    "        break\n",
    "\n",
    "    else:\n",
    "        print(\"Ivalid Choice, please try again\")"
   ]
  },
  {
   "cell_type": "code",
   "execution_count": null,
   "id": "cad1626c",
   "metadata": {},
   "outputs": [
    {
     "name": "stdout",
     "output_type": "stream",
     "text": [
      "11 is a prime number ✅\n"
     ]
    }
   ],
   "source": [
    "\"\"\"Task 35: Prime Number Checker\n",
    "Problem: Check if a number is prime using while loop for divisibility testing. Hint: Check divisibility\n",
    "from 2 to √number using while loop.\n",
    "\"\"\"\n",
    "\n",
    "import math\n",
    "\n",
    "num = int(input(\"Enter a number: \"))\n",
    "\n",
    "if num <= 1:\n",
    "    print(f\"{num} is not a prime number\")\n",
    "else:\n",
    "    is_prime = True\n",
    "    i = 2\n",
    "    while i <= math.isqrt(num):  \n",
    "        if num % i == 0:\n",
    "            is_prime = False\n",
    "            break\n",
    "        i += 1\n",
    "\n",
    "    if is_prime:\n",
    "        print(f\"{num} is a prime number\")\n",
    "    else:\n",
    "        print(f\"{num} is not a prime number\")\n"
   ]
  },
  {
   "cell_type": "code",
   "execution_count": 12,
   "id": "e1aed293",
   "metadata": {},
   "outputs": [
    {
     "name": "stdout",
     "output_type": "stream",
     "text": [
      "\n",
      "Collatz sequence:\n",
      "23 → 70 → 35 → 106 → 53 → 160 → 80 → 40 → 20 → 10 → 5 → 16 → 8 → 4 → 2 → 1\n"
     ]
    }
   ],
   "source": [
    "\"\"\"Task 36: Collatz Conjecture\n",
    "Problem: Apply Collatz rules (n/2 if even, 3n+1 if odd) until reaching 1. Hint: Use while n != 1: and\n",
    "apply rules based on n%2.\n",
    "\"\"\"\n",
    "\n",
    "n = int(input(\"Enter a positive integer: \"))\n",
    "\n",
    "if n <= 0:\n",
    "    print(\"Please enter a positive integer.\")\n",
    "else:\n",
    "    print(\"\\nCollatz sequence:\")\n",
    "    while n != 1:\n",
    "        print(n, end=\" → \")\n",
    "        if n % 2 == 0:\n",
    "            n = n // 2\n",
    "        else:\n",
    "            n = 3 * n + 1\n",
    "    print(1)  # final step\n"
   ]
  },
  {
   "cell_type": "code",
   "execution_count": 14,
   "id": "063662df",
   "metadata": {},
   "outputs": [
    {
     "name": "stdout",
     "output_type": "stream",
     "text": [
      "Enter item prices (enter 0 to finish):\n",
      "\n",
      "Subtotal: $5292.00\n",
      "Tax (8%): $423.36\n",
      "Grand Total: $5715.36\n"
     ]
    }
   ],
   "source": [
    "\"\"\"Task 37: Shopping Cart Total\n",
    "Problem: Keep adding item prices until user enters 0, then show total with tax. Hint: Use while loop\n",
    "to input prices, accumulate total, calculate tax outside loop.\"\"\"\n",
    "\n",
    "total = 0.0\n",
    "tax_rate = 0.08  # 8% sales tax\n",
    "\n",
    "print(\"Enter item prices (enter 0 to finish):\")\n",
    "\n",
    "while True:\n",
    "    price = float(input(\"Enter price: \"))\n",
    "    if price == 0:\n",
    "        break\n",
    "    elif price < 0:\n",
    "        print(\"Invalid price. Try again.\")\n",
    "    else:\n",
    "        total += price\n",
    "\n",
    "tax = total * tax_rate\n",
    "grand_total = total + tax\n",
    "\n",
    "print(f\"\\nSubtotal: ${total:.2f}\")\n",
    "print(f\"Tax (8%): ${tax:.2f}\")\n",
    "print(f\"Grand Total: ${grand_total:.2f}\")\n"
   ]
  },
  {
   "cell_type": "code",
   "execution_count": 15,
   "id": "5e62a4c0",
   "metadata": {},
   "outputs": [
    {
     "name": "stdout",
     "output_type": "stream",
     "text": [
      "The reverse of 4323 is: 3234\n"
     ]
    }
   ],
   "source": [
    "\"\"\"Task 38: Reverse Number\n",
    "Problem: Reverse the digits of a number using while loop. Hint: Use modulo to get last digit, build\n",
    "reversed number, use integer division.\n",
    "\"\"\"\n",
    "\n",
    "num = int(input(\"Enter a number: \"))\n",
    "original_num = num  # store original for display\n",
    "reversed_num = 0\n",
    "\n",
    "while num != 0:\n",
    "    digit = num % 10          # get last digit\n",
    "    reversed_num = reversed_num * 10 + digit  # build reversed number\n",
    "    num //= 10                # remove last digit\n",
    "\n",
    "print(f\"The reverse of {original_num} is: {reversed_num}\")\n"
   ]
  },
  {
   "cell_type": "code",
   "execution_count": 16,
   "id": "d0b6674d",
   "metadata": {},
   "outputs": [
    {
     "name": "stdout",
     "output_type": "stream",
     "text": [
      "\n",
      "Multiplication Table for 9:\n",
      "9 x 1 = 9\n",
      "9 x 2 = 18\n",
      "9 x 3 = 27\n",
      "9 x 4 = 36\n",
      "9 x 5 = 45\n",
      "9 x 6 = 54\n",
      "9 x 7 = 63\n",
      "9 x 8 = 72\n",
      "9 x 9 = 81\n",
      "9 x 10 = 90\n"
     ]
    }
   ],
   "source": [
    "\"\"\"Task 39: Multiplication Table\n",
    "Problem: Print multiplication table for a given number from 1 to 10. Hint: Use for i in range(1, 11):\n",
    "and print number * i.\"\"\"\n",
    "\n",
    "num = int(input(\"Enter a number: \"))\n",
    "\n",
    "print(f\"\\nMultiplication Table for {num}:\")\n",
    "\n",
    "for i in range(1, 11):\n",
    "    print(f\"{num} x {i} = {num * i}\")\n"
   ]
  },
  {
   "cell_type": "code",
   "execution_count": 17,
   "id": "6fe9efee",
   "metadata": {},
   "outputs": [
    {
     "name": "stdout",
     "output_type": "stream",
     "text": [
      "The sum of the list is: 50\n"
     ]
    }
   ],
   "source": [
    "\"\"\"Task 40: Sum of List\n",
    "Problem: Calculate sum of numbers in a list using for loop. Hint: Initialize total = 0, use for num in\n",
    "list: and add each number.\"\"\"\n",
    "\n",
    "numbers = [5, 10, 15, 20]  \n",
    "total = 0\n",
    "\n",
    "for num in numbers:\n",
    "    total += num\n",
    "\n",
    "print(f\"The sum of the list is: {total}\")\n"
   ]
  },
  {
   "cell_type": "code",
   "execution_count": 18,
   "id": "1f5fa81a",
   "metadata": {},
   "outputs": [
    {
     "name": "stdout",
     "output_type": "stream",
     "text": [
      "{'a': 1, 'p': 2, 'l': 1, 'e': 1}\n"
     ]
    }
   ],
   "source": [
    "\"\"\"Task 41: Character Counter\n",
    "Problem: Count occurrences of each character in a string using for loop. Hint: Use dictionary to store\n",
    "counts. Loop through string with for char in string:.\"\"\"\n",
    "\n",
    "text = \"apple\"\n",
    "char_count = {}\n",
    "\n",
    "for char in text:\n",
    "    char_count[char] = char_count.get(char, 0) + 1\n",
    "\n",
    "print(char_count)\n"
   ]
  },
  {
   "cell_type": "code",
   "execution_count": 19,
   "id": "691ce0ee",
   "metadata": {},
   "outputs": [
    {
     "name": "stdout",
     "output_type": "stream",
     "text": [
      "      *\n",
      "     ***\n",
      "    *****\n",
      "   *******\n",
      "  *********\n",
      " ***********\n",
      "*************\n"
     ]
    }
   ],
   "source": [
    "\"\"\"Task 42: Pattern Printer\n",
    "Problem: Print pyramid patterns using nested for loops. Hint: Outer loop for rows, inner loops for\n",
    "spaces and stars. Use print(\"*\", end=\"\").\n",
    "\"\"\"\n",
    "\n",
    "rows = int(input(\"Enter number of rows: \"))\n",
    "\n",
    "for i in range(1, rows + 1):\n",
    "    # print spaces\n",
    "    for j in range(rows - i):\n",
    "        print(\" \", end=\"\")\n",
    "    # print stars\n",
    "    for k in range(2 * i - 1):\n",
    "        print(\"*\", end=\"\")\n",
    "    print()  # move to next line\n"
   ]
  },
  {
   "cell_type": "code",
   "execution_count": 1,
   "id": "ace5f1f4",
   "metadata": {},
   "outputs": [
    {
     "name": "stdout",
     "output_type": "stream",
     "text": [
      "Prime numbers between 1 and 100:\n",
      "2 3 5 7 11 13 17 19 23 29 31 37 41 43 47 53 59 61 67 71 73 79 83 89 97 \n"
     ]
    }
   ],
   "source": [
    "# Task 43: Prime Numbers in Range\n",
    "# Problem: Find all prime numbers between 1 and n using for loops. \n",
    "# Hint: Outer loop for each number, inner loop to check divisibility.\n",
    "\n",
    "n = int(input(\"Enter the upper limit (n): \"))\n",
    "print(f\"Prime numbers between 1 and {n}:\")\n",
    "\n",
    "for num in range(2, n + 1):  # 1 is not prime\n",
    "    is_prime = True\n",
    "    for i in range(2, int(num ** 0.5) + 1):\n",
    "        if num % i == 0:\n",
    "            is_prime = False\n",
    "            break\n",
    "    if is_prime:\n",
    "        print(num, end=\" \")\n",
    "print()"
   ]
  },
  {
   "cell_type": "code",
   "execution_count": 2,
   "id": "157b9b7d",
   "metadata": {},
   "outputs": [
    {
     "name": "stdout",
     "output_type": "stream",
     "text": [
      "\n",
      "Average grade: 94.40\n",
      "Highest grade: 100.0\n",
      "Lowest grade: 89.0\n"
     ]
    }
   ],
   "source": [
    "# Task 44: Grade Statistics\n",
    "# Problem: Input multiple grades and calculate average, highest, and lowest using for loop.\n",
    "# Hint: Use for i in range(number_of_grades): to input grades into a list.\n",
    "\n",
    "num_grades = int(input(\"Enter the number of grades: \"))\n",
    "grades = []\n",
    "\n",
    "for i in range(num_grades):\n",
    "    grade = float(input(f\"Enter grade #{i+1}\"))\n",
    "    grades.append(grade)\n",
    "    \n",
    "average = sum(grades) / num_grades\n",
    "highest = max(grades)\n",
    "lowest = min(grades)\n",
    "\n",
    "print(f\"\\nAverage grade: {average:.2f}\")\n",
    "print(f\"Highest grade: {highest}\")\n",
    "print(f\"Lowest grade: {lowest}\")\n"
   ]
  },
  {
   "cell_type": "code",
   "execution_count": 5,
   "id": "7e960a90",
   "metadata": {},
   "outputs": [
    {
     "name": "stdout",
     "output_type": "stream",
     "text": [
      "Orignal Words: Hello my name is Priyrajsinh\n",
      "Reversed Words: olleH ym eman si hnisjaryirP\n"
     ]
    }
   ],
   "source": [
    "# Task 45: Word Reverser\n",
    "# Problem: Reverse each word in a sentence while keeping word order.\n",
    "# Hint: Split sentence into words, use for loop to reverse each word, join back.\n",
    "\n",
    "sentence = input(\"Enter a Setence: \")\n",
    "print(f\"Orignal Words: {sentence}\")\n",
    "words = sentence.split()\n",
    "\n",
    "reversed_words = []\n",
    "for word in words:\n",
    "    reversed_words.append(word[::-1])\n",
    "\n",
    "result = \" \".join(reversed_words)\n",
    "print(f\"Reversed Words: {result}\")"
   ]
  },
  {
   "cell_type": "code",
   "execution_count": 6,
   "id": "875755c1",
   "metadata": {},
   "outputs": [
    {
     "name": "stdout",
     "output_type": "stream",
     "text": [
      "1\n",
      "22\n",
      "333\n",
      "4444\n",
      "55555\n",
      "666666\n",
      "7777777\n"
     ]
    }
   ],
   "source": [
    "# Task 46: Number Pattern Generator\n",
    "# Problem: Generate number patterns (like 1,22,333,4444) using nested for loops.\n",
    "# Hint: Outer loop for rows, inner loop to print digit repeated row-number times.\n",
    "\n",
    "rows = int(input(\"Enter number of rows: \"))\n",
    "\n",
    "for i in range(1, rows +1):\n",
    "    for j in range(i):\n",
    "        print(i, end=\"\")\n",
    "    print()"
   ]
  },
  {
   "cell_type": "code",
   "execution_count": 7,
   "id": "6788378c",
   "metadata": {},
   "outputs": [
    {
     "name": "stdout",
     "output_type": "stream",
     "text": [
      "Squares using for loop: [1, 4, 9, 16, 25, 36, 49, 64, 81, 100]\n",
      "Square using list comprehension: [1, 4, 9, 16, 25, 36, 49, 64, 81, 100]\n"
     ]
    }
   ],
   "source": [
    "# Task 47: List Comprehension vs For Loop\n",
    "# Problem: Create the same list using both for loop and list comprehension (squares of 1-10).\n",
    "# Hint: For loop: append to empty list. List comp: [x**2 for x in range(1,11)].\n",
    "\n",
    "squares_for = []\n",
    "for x in range(1, 11):\n",
    "    squares_for.append(x ** 2)\n",
    "print(f\"Squares using for loop: {squares_for}\")\n",
    "\n",
    "squares_comp = [x ** 2 for x in range(1, 11)]\n",
    "print(f\"Square using list comprehension: {squares_comp}\")"
   ]
  },
  {
   "cell_type": "code",
   "execution_count": 8,
   "id": "c5e93ea3",
   "metadata": {},
   "outputs": [
    {
     "name": "stdout",
     "output_type": "stream",
     "text": [
      "Vowels: 6\n",
      "Consonants: 13\n",
      "Digits: 2\n",
      "Spaces: 0\n"
     ]
    }
   ],
   "source": [
    "# Task 48: String Analyzer\n",
    "# Problem: Analyze a string: count vowels, consonants, digits, and spaces using for loop.\n",
    "# Hint: Use counters and char.isalpha(), char.isdigit(), char.isspace() methods.\n",
    "\n",
    "string = input(\"Enter a string: \")\n",
    "\n",
    "vowels = \"aeiouAEIOU\"\n",
    "vowel_count = 0\n",
    "consonant_count = 0\n",
    "digit_count = 0\n",
    "space_count = 0\n",
    "\n",
    "for char in string:\n",
    "    if char.isalpha():\n",
    "        if char in vowels:\n",
    "            vowel_count += 1\n",
    "        else:\n",
    "            consonant_count += 1\n",
    "    elif char.isdigit():\n",
    "        digit_count += 1\n",
    "    elif char.isspace():\n",
    "        space_count += 1\n",
    "\n",
    "print(f\"Vowels: {vowel_count}\")\n",
    "print(f\"Consonants: {consonant_count}\")\n",
    "print(f\"Digits: {digit_count}\")\n",
    "print(f\"Spaces: {space_count}\")"
   ]
  },
  {
   "cell_type": "code",
   "execution_count": 10,
   "id": "1e6e059e",
   "metadata": {},
   "outputs": [
    {
     "name": "stdout",
     "output_type": "stream",
     "text": [
      "Sum of [1, 2, 3]: 6\n",
      "Sum of [4, 5]: 9\n",
      "Sum of [6, 7, 8, 9]: 30\n"
     ]
    }
   ],
   "source": [
    "# Task 49: Nested List Processor\n",
    "# Problem: Process a 2D list (list of lists) to find sum of each sublist.\n",
    "# Hint: Outer loop for each sublist, inner loop to sum elements in current sublist.\n",
    "\n",
    "nested_list = [\n",
    "    [1, 2, 3],\n",
    "    [4, 5],\n",
    "    [6, 7, 8, 9]\n",
    "]\n",
    "\n",
    "for sublist in nested_list:\n",
    "    sublist_num = 0\n",
    "    for num in sublist:\n",
    "        sublist_num += num\n",
    "    print(f\"Sum of {sublist}: {sublist_num}\")"
   ]
  },
  {
   "cell_type": "code",
   "execution_count": null,
   "id": "8df2f9f4",
   "metadata": {},
   "outputs": [],
   "source": []
  }
 ],
 "metadata": {
  "kernelspec": {
   "display_name": "Python 3",
   "language": "python",
   "name": "python3"
  },
  "language_info": {
   "codemirror_mode": {
    "name": "ipython",
    "version": 3
   },
   "file_extension": ".py",
   "mimetype": "text/x-python",
   "name": "python",
   "nbconvert_exporter": "python",
   "pygments_lexer": "ipython3",
   "version": "3.10.5"
  }
 },
 "nbformat": 4,
 "nbformat_minor": 5
}
