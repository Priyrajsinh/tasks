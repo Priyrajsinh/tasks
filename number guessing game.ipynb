{
 "cells": [
  {
   "cell_type": "code",
   "execution_count": 2,
   "id": "4fddb50a",
   "metadata": {},
   "outputs": [
    {
     "name": "stdout",
     "output_type": "stream",
     "text": [
      "Please enter a valid number\n",
      "Please enter a valid number\n",
      "Please enter a valid number\n",
      "Please enter a valid number\n",
      "To Low\n",
      "To Low\n",
      "To High\n",
      "To Low\n",
      "To Low\n",
      "To Low\n",
      "To Low\n",
      "Congrats! You guessed the number\n"
     ]
    }
   ],
   "source": [
    "import random\n",
    "\n",
    "number_to_guess = random.randint(1, 100)\n",
    "\n",
    "while True:\n",
    "    try:\n",
    "        guess = int(input(\"Guess a number between 1 and 100\"))\n",
    "\n",
    "        if guess < number_to_guess:\n",
    "            print(\"To Low\")\n",
    "        elif guess > number_to_guess:\n",
    "            print(\"To High\")\n",
    "        else:\n",
    "            print(\"Congrats! You guessed the number\")\n",
    "            break\n",
    "    except ValueError:\n",
    "        print(\"Please enter a valid number\")"
   ]
  }
 ],
 "metadata": {
  "kernelspec": {
   "display_name": "Python 3",
   "language": "python",
   "name": "python3"
  },
  "language_info": {
   "codemirror_mode": {
    "name": "ipython",
    "version": 3
   },
   "file_extension": ".py",
   "mimetype": "text/x-python",
   "name": "python",
   "nbconvert_exporter": "python",
   "pygments_lexer": "ipython3",
   "version": "3.10.5"
  }
 },
 "nbformat": 4,
 "nbformat_minor": 5
}
